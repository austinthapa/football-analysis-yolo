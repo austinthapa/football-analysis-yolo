{
 "cells": [
  {
   "cell_type": "markdown",
   "metadata": {
    "id": "C4mQ3xw6zeBR"
   },
   "source": [
    "## Imports"
   ]
  },
  {
   "cell_type": "code",
   "execution_count": null,
   "metadata": {
    "colab": {
     "base_uri": "https://localhost:8080/"
    },
    "executionInfo": {
     "elapsed": 6224,
     "status": "ok",
     "timestamp": 1742780239774,
     "user": {
      "displayName": "Austin Thapa",
      "userId": "06155941606201023830"
     },
     "user_tz": 300
    },
    "id": "qOcbHQG1zeBX",
    "outputId": "a659e893-3e10-4649-9ac6-f447038648c5"
   },
   "outputs": [
    {
     "name": "stdout",
     "output_type": "stream",
     "text": [
      "Creating new Ultralytics Settings v0.0.6 file ✅ \n",
      "View Ultralytics Settings with 'yolo settings' or at '/root/.config/Ultralytics/settings.json'\n",
      "Update Settings with 'yolo settings key=value', i.e. 'yolo settings runs_dir=path/to/dir'. For help see https://docs.ultralytics.com/quickstart/#ultralytics-settings.\n"
     ]
    }
   ],
   "source": [
    "import config\n",
    "\n",
    "from ultralytics import YOLO\n",
    "from roboflow import Roboflow"
   ]
  },
  {
   "cell_type": "markdown",
   "metadata": {
    "id": "oXWkrE2yzeBY"
   },
   "source": [
    "## Load the model"
   ]
  },
  {
   "cell_type": "code",
   "execution_count": null,
   "metadata": {
    "colab": {
     "base_uri": "https://localhost:8080/"
    },
    "executionInfo": {
     "elapsed": 1023,
     "status": "ok",
     "timestamp": 1742780240799,
     "user": {
      "displayName": "Austin Thapa",
      "userId": "06155941606201023830"
     },
     "user_tz": 300
    },
    "id": "s_ml8D5szeBY",
    "outputId": "0e8407fb-e55b-4ab7-c1ab-0827e65d01f7"
   },
   "outputs": [
    {
     "name": "stdout",
     "output_type": "stream",
     "text": [
      "Downloading https://github.com/ultralytics/assets/releases/download/v8.3.0/yolov9m.pt to 'yolov9m.pt'...\n"
     ]
    },
    {
     "name": "stderr",
     "output_type": "stream",
     "text": [
      "100%|██████████| 39.1M/39.1M [00:00<00:00, 128MB/s]\n"
     ]
    }
   ],
   "source": [
    "yolo = YOLO('yolo11m')"
   ]
  },
  {
   "cell_type": "markdown",
   "metadata": {
    "id": "M0sGdupAzeBY"
   },
   "source": [
    "## Connect to Roboflow universe to get the dataset to finetune the YOLO"
   ]
  },
  {
   "cell_type": "code",
   "execution_count": null,
   "metadata": {
    "executionInfo": {
     "elapsed": 187,
     "status": "ok",
     "timestamp": 1742780240999,
     "user": {
      "displayName": "Austin Thapa",
      "userId": "06155941606201023830"
     },
     "user_tz": 300
    },
    "id": "O51ajI7EzeBY"
   },
   "outputs": [],
   "source": [
    "rf = Roboflow(api_key=config.api_key)"
   ]
  },
  {
   "cell_type": "code",
   "execution_count": 5,
   "metadata": {
    "colab": {
     "base_uri": "https://localhost:8080/"
    },
    "executionInfo": {
     "elapsed": 247,
     "status": "ok",
     "timestamp": 1742780241249,
     "user": {
      "displayName": "Austin Thapa",
      "userId": "06155941606201023830"
     },
     "user_tz": 300
    },
    "id": "hQh7xvWBzeBZ",
    "outputId": "9ae07eb3-5e1c-4951-85d9-a44431c8251d"
   },
   "outputs": [
    {
     "name": "stdout",
     "output_type": "stream",
     "text": [
      "loading Roboflow workspace...\n",
      "loading Roboflow project...\n"
     ]
    }
   ],
   "source": [
    "project = rf.workspace('roboflow-jvuqo').project('football-players-detection-3zvbc')"
   ]
  },
  {
   "cell_type": "code",
   "execution_count": 6,
   "metadata": {
    "executionInfo": {
     "elapsed": 321,
     "status": "ok",
     "timestamp": 1742780241571,
     "user": {
      "displayName": "Austin Thapa",
      "userId": "06155941606201023830"
     },
     "user_tz": 300
    },
    "id": "DurkCxvpzeBZ"
   },
   "outputs": [],
   "source": [
    "version = project.version(1)"
   ]
  },
  {
   "cell_type": "code",
   "execution_count": null,
   "metadata": {
    "colab": {
     "base_uri": "https://localhost:8080/"
    },
    "executionInfo": {
     "elapsed": 3286,
     "status": "ok",
     "timestamp": 1742780244859,
     "user": {
      "displayName": "Austin Thapa",
      "userId": "06155941606201023830"
     },
     "user_tz": 300
    },
    "id": "D2FdQkz7zeBZ",
    "outputId": "54ed6c9a-99b8-4b9a-ae3f-407236563da0"
   },
   "outputs": [
    {
     "name": "stderr",
     "output_type": "stream",
     "text": [
      "Downloading Dataset Version Zip in football-players-detection-1 to yolov9:: 100%|██████████| 148663/148663 [00:02<00:00, 71767.15it/s]"
     ]
    },
    {
     "name": "stdout",
     "output_type": "stream",
     "text": [
      "\n"
     ]
    },
    {
     "name": "stderr",
     "output_type": "stream",
     "text": [
      "\n",
      "Extracting Dataset Version Zip to football-players-detection-1 in yolov9:: 100%|██████████| 1338/1338 [00:00<00:00, 3176.75it/s]\n"
     ]
    }
   ],
   "source": [
    "dataset = version.download('yolov11')"
   ]
  },
  {
   "cell_type": "markdown",
   "metadata": {
    "id": "SagbPcekzeBa"
   },
   "source": [
    "## Training the YOLO model"
   ]
  },
  {
   "cell_type": "code",
   "execution_count": null,
   "metadata": {
    "colab": {
     "base_uri": "https://localhost:8080/"
    },
    "executionInfo": {
     "elapsed": 276946,
     "status": "ok",
     "timestamp": 1742780896808,
     "user": {
      "displayName": "Austin Thapa",
      "userId": "06155941606201023830"
     },
     "user_tz": 300
    },
    "id": "PY5-5dQzzeBa",
    "outputId": "4feb4b9f-9e20-4f36-8935-1e8cc81a7dd1"
   },
   "outputs": [
    {
     "name": "stdout",
     "output_type": "stream",
     "text": [
      "Ultralytics 8.3.95 🚀 Python-3.11.11 torch-2.6.0+cu124 CUDA:0 (NVIDIA A100-SXM4-40GB, 40507MiB)\n",
      "\u001b[34m\u001b[1mengine/trainer: \u001b[0mtask=detect, mode=train, model=yolov9m.pt, data=/content/football-players-detection-1/data.yaml, epochs=30, time=None, patience=100, batch=16, imgsz=640, save=True, save_period=-1, cache=False, device=None, workers=8, project=None, name=train2, exist_ok=False, pretrained=True, optimizer=auto, verbose=True, seed=0, deterministic=True, single_cls=False, rect=False, cos_lr=False, close_mosaic=10, resume=False, amp=True, fraction=1.0, profile=False, freeze=None, multi_scale=False, overlap_mask=True, mask_ratio=4, dropout=0.0, val=True, split=val, save_json=False, save_hybrid=False, conf=None, iou=0.7, max_det=300, half=False, dnn=False, plots=True, source=None, vid_stride=1, stream_buffer=False, visualize=False, augment=False, agnostic_nms=False, classes=None, retina_masks=False, embed=None, show=False, save_frames=False, save_txt=False, save_conf=False, save_crop=False, show_labels=True, show_conf=True, show_boxes=True, line_width=None, format=torchscript, keras=False, optimize=False, int8=False, dynamic=False, simplify=True, opset=None, workspace=None, nms=False, lr0=0.01, lrf=0.01, momentum=0.937, weight_decay=0.0005, warmup_epochs=3.0, warmup_momentum=0.8, warmup_bias_lr=0.1, box=7.5, cls=0.5, dfl=1.5, pose=12.0, kobj=1.0, nbs=64, hsv_h=0.015, hsv_s=0.7, hsv_v=0.4, degrees=0.0, translate=0.1, scale=0.5, shear=0.0, perspective=0.0, flipud=0.0, fliplr=0.5, bgr=0.0, mosaic=1.0, mixup=0.0, copy_paste=0.0, copy_paste_mode=flip, auto_augment=randaugment, erasing=0.4, crop_fraction=1.0, cfg=None, tracker=botsort.yaml, save_dir=runs/detect/train2\n",
      "WARNING: All log messages before absl::InitializeLog() is called are written to STDERR\n",
      "E0000 00:00:1742780623.399413    8729 cuda_dnn.cc:8310] Unable to register cuDNN factory: Attempting to register factory for plugin cuDNN when one has already been registered\n",
      "E0000 00:00:1742780623.406233    8729 cuda_blas.cc:1418] Unable to register cuBLAS factory: Attempting to register factory for plugin cuBLAS when one has already been registered\n",
      "Overriding model.yaml nc=80 with nc=4\n",
      "\n",
      "                   from  n    params  module                                       arguments                     \n",
      "  0                  -1  1       928  ultralytics.nn.modules.conv.Conv             [3, 32, 3, 2]                 \n",
      "  1                  -1  1     18560  ultralytics.nn.modules.conv.Conv             [32, 64, 3, 2]                \n",
      "  2                  -1  1    171648  ultralytics.nn.modules.block.RepNCSPELAN4    [64, 128, 128, 64, 1]         \n",
      "  3                  -1  1    276960  ultralytics.nn.modules.block.AConv           [128, 240]                    \n",
      "  4                  -1  1    629520  ultralytics.nn.modules.block.RepNCSPELAN4    [240, 240, 240, 120, 1]       \n",
      "  5                  -1  1    778320  ultralytics.nn.modules.block.AConv           [240, 360]                    \n",
      "  6                  -1  1   1414080  ultralytics.nn.modules.block.RepNCSPELAN4    [360, 360, 360, 180, 1]       \n",
      "  7                  -1  1   1556160  ultralytics.nn.modules.block.AConv           [360, 480]                    \n",
      "  8                  -1  1   2511840  ultralytics.nn.modules.block.RepNCSPELAN4    [480, 480, 480, 240, 1]       \n",
      "  9                  -1  1    577440  ultralytics.nn.modules.block.SPPELAN         [480, 480, 240]               \n",
      " 10                  -1  1         0  torch.nn.modules.upsampling.Upsample         [None, 2, 'nearest']          \n",
      " 11             [-1, 6]  1         0  ultralytics.nn.modules.conv.Concat           [1]                           \n",
      " 12                  -1  1   1586880  ultralytics.nn.modules.block.RepNCSPELAN4    [840, 360, 360, 180, 1]       \n",
      " 13                  -1  1         0  torch.nn.modules.upsampling.Upsample         [None, 2, 'nearest']          \n",
      " 14             [-1, 4]  1         0  ultralytics.nn.modules.conv.Concat           [1]                           \n",
      " 15                  -1  1    715920  ultralytics.nn.modules.block.RepNCSPELAN4    [600, 240, 240, 120, 1]       \n",
      " 16                  -1  1    397808  ultralytics.nn.modules.block.AConv           [240, 184]                    \n",
      " 17            [-1, 12]  1         0  ultralytics.nn.modules.conv.Concat           [1]                           \n",
      " 18                  -1  1   1480320  ultralytics.nn.modules.block.RepNCSPELAN4    [544, 360, 360, 180, 1]       \n",
      " 19                  -1  1    778080  ultralytics.nn.modules.block.AConv           [360, 240]                    \n",
      " 20             [-1, 9]  1         0  ultralytics.nn.modules.conv.Concat           [1]                           \n",
      " 21                  -1  1   2627040  ultralytics.nn.modules.block.RepNCSPELAN4    [720, 480, 480, 240, 1]       \n",
      " 22        [15, 18, 21]  1   4639708  ultralytics.nn.modules.head.Detect           [4, [240, 360, 480]]          \n",
      "YOLOv9m summary: 348 layers, 20,161,212 parameters, 20,161,196 gradients, 77.6 GFLOPs\n",
      "\n",
      "Transferred 901/907 items from pretrained weights\n",
      "\u001b[34m\u001b[1mTensorBoard: \u001b[0mStart with 'tensorboard --logdir runs/detect/train2', view at http://localhost:6006/\n",
      "Freezing layer 'model.22.dfl.conv.weight'\n",
      "\u001b[34m\u001b[1mAMP: \u001b[0mrunning Automatic Mixed Precision (AMP) checks...\n",
      "\u001b[34m\u001b[1mAMP: \u001b[0mchecks passed ✅\n",
      "\u001b[34m\u001b[1mtrain: \u001b[0mScanning /content/football-players-detection-1/train/labels.cache... 612 images, 0 backgrounds, 0 corrupt: 100% 612/612 [00:00<?, ?it/s]\n",
      "\u001b[34m\u001b[1malbumentations: \u001b[0mBlur(p=0.01, blur_limit=(3, 7)), MedianBlur(p=0.01, blur_limit=(3, 7)), ToGray(p=0.01, num_output_channels=3, method='weighted_average'), CLAHE(p=0.01, clip_limit=(1.0, 4.0), tile_grid_size=(8, 8))\n",
      "\u001b[34m\u001b[1mval: \u001b[0mScanning /content/football-players-detection-1/valid/labels.cache... 38 images, 0 backgrounds, 0 corrupt: 100% 38/38 [00:00<?, ?it/s]\n",
      "Plotting labels to runs/detect/train2/labels.jpg... \n",
      "\u001b[34m\u001b[1moptimizer:\u001b[0m 'optimizer=auto' found, ignoring 'lr0=0.01' and 'momentum=0.937' and determining best 'optimizer', 'lr0' and 'momentum' automatically... \n",
      "\u001b[34m\u001b[1moptimizer:\u001b[0m AdamW(lr=0.00125, momentum=0.9) with parameter groups 149 weight(decay=0.0), 156 weight(decay=0.0005), 155 bias(decay=0.0)\n",
      "\u001b[34m\u001b[1mTensorBoard: \u001b[0mmodel graph visualization added ✅\n",
      "Image sizes 640 train, 640 val\n",
      "Using 8 dataloader workers\n",
      "Logging results to \u001b[1mruns/detect/train2\u001b[0m\n",
      "Starting training for 30 epochs...\n",
      "\n",
      "      Epoch    GPU_mem   box_loss   cls_loss   dfl_loss  Instances       Size\n",
      "       1/30      8.34G      1.298      1.676     0.8469        131        640: 100% 39/39 [00:08<00:00,  4.34it/s]\n",
      "                 Class     Images  Instances      Box(P          R      mAP50  mAP50-95): 100% 2/2 [00:00<00:00,  4.34it/s]\n",
      "                   all         38        905      0.656      0.395        0.4      0.209\n",
      "\n",
      "      Epoch    GPU_mem   box_loss   cls_loss   dfl_loss  Instances       Size\n",
      "       2/30      8.64G      1.297     0.7423      0.827        106        640: 100% 39/39 [00:07<00:00,  5.40it/s]\n",
      "                 Class     Images  Instances      Box(P          R      mAP50  mAP50-95): 100% 2/2 [00:00<00:00,  8.67it/s]\n",
      "                   all         38        905      0.622      0.566      0.562      0.293\n",
      "\n",
      "      Epoch    GPU_mem   box_loss   cls_loss   dfl_loss  Instances       Size\n",
      "       3/30      8.72G      1.276     0.6838     0.8217        162        640: 100% 39/39 [00:07<00:00,  5.55it/s]\n",
      "                 Class     Images  Instances      Box(P          R      mAP50  mAP50-95): 100% 2/2 [00:00<00:00,  9.02it/s]\n",
      "                   all         38        905      0.682      0.561      0.583       0.36\n",
      "\n",
      "      Epoch    GPU_mem   box_loss   cls_loss   dfl_loss  Instances       Size\n",
      "       4/30      8.81G      1.233     0.6471     0.8193        199        640: 100% 39/39 [00:06<00:00,  5.73it/s]\n",
      "                 Class     Images  Instances      Box(P          R      mAP50  mAP50-95): 100% 2/2 [00:00<00:00,  8.81it/s]\n",
      "                   all         38        905      0.613      0.625      0.676      0.403\n",
      "\n",
      "      Epoch    GPU_mem   box_loss   cls_loss   dfl_loss  Instances       Size\n",
      "       5/30       8.9G       1.13     0.5831     0.8092        260        640: 100% 39/39 [00:06<00:00,  5.75it/s]\n",
      "                 Class     Images  Instances      Box(P          R      mAP50  mAP50-95): 100% 2/2 [00:00<00:00,  9.08it/s]\n",
      "                   all         38        905      0.774      0.633      0.707      0.432\n",
      "\n",
      "      Epoch    GPU_mem   box_loss   cls_loss   dfl_loss  Instances       Size\n",
      "       6/30      8.96G       1.16     0.5793     0.8087        172        640: 100% 39/39 [00:06<00:00,  5.66it/s]\n",
      "                 Class     Images  Instances      Box(P          R      mAP50  mAP50-95): 100% 2/2 [00:00<00:00,  8.55it/s]\n",
      "                   all         38        905      0.887      0.629      0.765      0.486\n",
      "\n",
      "      Epoch    GPU_mem   box_loss   cls_loss   dfl_loss  Instances       Size\n",
      "       7/30      9.07G      1.156     0.5722     0.8091        173        640: 100% 39/39 [00:06<00:00,  5.64it/s]\n",
      "                 Class     Images  Instances      Box(P          R      mAP50  mAP50-95): 100% 2/2 [00:00<00:00,  8.86it/s]\n",
      "                   all         38        905      0.939      0.601      0.744      0.471\n",
      "\n",
      "      Epoch    GPU_mem   box_loss   cls_loss   dfl_loss  Instances       Size\n",
      "       8/30      9.15G      1.121     0.5549     0.8038         96        640: 100% 39/39 [00:06<00:00,  5.76it/s]\n",
      "                 Class     Images  Instances      Box(P          R      mAP50  mAP50-95): 100% 2/2 [00:00<00:00,  9.20it/s]\n",
      "                   all         38        905      0.846      0.664      0.758      0.436\n",
      "\n",
      "      Epoch    GPU_mem   box_loss   cls_loss   dfl_loss  Instances       Size\n",
      "       9/30      9.15G      1.108     0.5296     0.8061        126        640: 100% 39/39 [00:06<00:00,  5.71it/s]\n",
      "                 Class     Images  Instances      Box(P          R      mAP50  mAP50-95): 100% 2/2 [00:00<00:00,  9.04it/s]\n",
      "                   all         38        905      0.853       0.69       0.76      0.451\n",
      "\n",
      "      Epoch    GPU_mem   box_loss   cls_loss   dfl_loss  Instances       Size\n",
      "      10/30      9.15G        1.1     0.5284     0.8037        144        640: 100% 39/39 [00:06<00:00,  5.72it/s]\n",
      "                 Class     Images  Instances      Box(P          R      mAP50  mAP50-95): 100% 2/2 [00:00<00:00,  9.19it/s]\n",
      "                   all         38        905      0.801      0.734      0.773      0.473\n",
      "\n",
      "      Epoch    GPU_mem   box_loss   cls_loss   dfl_loss  Instances       Size\n",
      "      11/30      9.15G      1.001     0.4823     0.7974        168        640: 100% 39/39 [00:06<00:00,  5.68it/s]\n",
      "                 Class     Images  Instances      Box(P          R      mAP50  mAP50-95): 100% 2/2 [00:00<00:00,  9.13it/s]\n",
      "                   all         38        905      0.786      0.705      0.757      0.477\n",
      "\n",
      "      Epoch    GPU_mem   box_loss   cls_loss   dfl_loss  Instances       Size\n",
      "      12/30      9.15G     0.9724     0.4672     0.7983        150        640: 100% 39/39 [00:06<00:00,  5.70it/s]\n",
      "                 Class     Images  Instances      Box(P          R      mAP50  mAP50-95): 100% 2/2 [00:00<00:00,  8.99it/s]\n",
      "                   all         38        905      0.874      0.738      0.802      0.527\n",
      "\n",
      "      Epoch    GPU_mem   box_loss   cls_loss   dfl_loss  Instances       Size\n",
      "      13/30      9.15G      0.996     0.4783     0.7971        189        640: 100% 39/39 [00:06<00:00,  5.64it/s]\n",
      "                 Class     Images  Instances      Box(P          R      mAP50  mAP50-95): 100% 2/2 [00:00<00:00,  9.30it/s]\n",
      "                   all         38        905      0.864      0.704      0.793      0.516\n",
      "\n",
      "      Epoch    GPU_mem   box_loss   cls_loss   dfl_loss  Instances       Size\n",
      "      14/30      9.15G     0.9966     0.4776     0.7945        121        640: 100% 39/39 [00:06<00:00,  5.75it/s]\n",
      "                 Class     Images  Instances      Box(P          R      mAP50  mAP50-95): 100% 2/2 [00:00<00:00,  9.12it/s]\n",
      "                   all         38        905      0.908      0.682      0.782      0.514\n",
      "\n",
      "      Epoch    GPU_mem   box_loss   cls_loss   dfl_loss  Instances       Size\n",
      "      15/30      9.15G      1.029      0.491      0.798        216        640: 100% 39/39 [00:06<00:00,  5.67it/s]\n",
      "                 Class     Images  Instances      Box(P          R      mAP50  mAP50-95): 100% 2/2 [00:00<00:00,  8.99it/s]\n",
      "                   all         38        905      0.773      0.746      0.787      0.502\n",
      "\n",
      "      Epoch    GPU_mem   box_loss   cls_loss   dfl_loss  Instances       Size\n",
      "      16/30      9.15G     0.9772     0.4599     0.7938        159        640: 100% 39/39 [00:06<00:00,  5.80it/s]\n",
      "                 Class     Images  Instances      Box(P          R      mAP50  mAP50-95): 100% 2/2 [00:00<00:00,  9.13it/s]\n",
      "                   all         38        905      0.803      0.728      0.794      0.465\n",
      "\n",
      "      Epoch    GPU_mem   box_loss   cls_loss   dfl_loss  Instances       Size\n",
      "      17/30      9.15G      0.998     0.4709     0.7923        172        640: 100% 39/39 [00:06<00:00,  5.75it/s]\n",
      "                 Class     Images  Instances      Box(P          R      mAP50  mAP50-95): 100% 2/2 [00:00<00:00,  8.96it/s]\n",
      "                   all         38        905      0.833      0.744      0.794      0.541\n",
      "\n",
      "      Epoch    GPU_mem   box_loss   cls_loss   dfl_loss  Instances       Size\n",
      "      18/30      9.15G     0.9382     0.4425     0.7927        100        640: 100% 39/39 [00:06<00:00,  5.73it/s]\n",
      "                 Class     Images  Instances      Box(P          R      mAP50  mAP50-95): 100% 2/2 [00:00<00:00,  9.26it/s]\n",
      "                   all         38        905      0.876      0.742      0.802      0.549\n",
      "\n",
      "      Epoch    GPU_mem   box_loss   cls_loss   dfl_loss  Instances       Size\n",
      "      19/30      9.15G     0.8981     0.4232     0.7923        105        640: 100% 39/39 [00:06<00:00,  5.64it/s]\n",
      "                 Class     Images  Instances      Box(P          R      mAP50  mAP50-95): 100% 2/2 [00:00<00:00,  9.15it/s]\n",
      "                   all         38        905      0.878      0.715      0.785      0.519\n",
      "\n",
      "      Epoch    GPU_mem   box_loss   cls_loss   dfl_loss  Instances       Size\n",
      "      20/30      9.15G     0.8978     0.4197      0.792        207        640: 100% 39/39 [00:06<00:00,  5.77it/s]\n",
      "                 Class     Images  Instances      Box(P          R      mAP50  mAP50-95): 100% 2/2 [00:00<00:00,  9.08it/s]\n",
      "                   all         38        905      0.876      0.759       0.82      0.552\n",
      "Closing dataloader mosaic\n",
      "\u001b[34m\u001b[1malbumentations: \u001b[0mBlur(p=0.01, blur_limit=(3, 7)), MedianBlur(p=0.01, blur_limit=(3, 7)), ToGray(p=0.01, num_output_channels=3, method='weighted_average'), CLAHE(p=0.01, clip_limit=(1.0, 4.0), tile_grid_size=(8, 8))\n",
      "\n",
      "      Epoch    GPU_mem   box_loss   cls_loss   dfl_loss  Instances       Size\n",
      "      21/30      9.15G      0.843     0.4188       0.79         95        640: 100% 39/39 [00:07<00:00,  4.99it/s]\n",
      "                 Class     Images  Instances      Box(P          R      mAP50  mAP50-95): 100% 2/2 [00:00<00:00,  9.13it/s]\n",
      "                   all         38        905      0.953      0.707      0.811       0.53\n",
      "\n",
      "      Epoch    GPU_mem   box_loss   cls_loss   dfl_loss  Instances       Size\n",
      "      22/30      9.15G     0.8242     0.4084     0.7891         96        640: 100% 39/39 [00:06<00:00,  5.80it/s]\n",
      "                 Class     Images  Instances      Box(P          R      mAP50  mAP50-95): 100% 2/2 [00:00<00:00,  9.14it/s]\n",
      "                   all         38        905      0.875       0.75      0.808      0.522\n",
      "\n",
      "      Epoch    GPU_mem   box_loss   cls_loss   dfl_loss  Instances       Size\n",
      "      23/30      9.15G     0.8314     0.4177     0.7894         90        640: 100% 39/39 [00:06<00:00,  5.80it/s]\n",
      "                 Class     Images  Instances      Box(P          R      mAP50  mAP50-95): 100% 2/2 [00:00<00:00,  9.33it/s]\n",
      "                   all         38        905      0.808      0.703      0.752      0.506\n",
      "\n",
      "      Epoch    GPU_mem   box_loss   cls_loss   dfl_loss  Instances       Size\n",
      "      24/30      9.15G      0.809     0.3979     0.7887         88        640: 100% 39/39 [00:06<00:00,  5.83it/s]\n",
      "                 Class     Images  Instances      Box(P          R      mAP50  mAP50-95): 100% 2/2 [00:00<00:00,  9.00it/s]\n",
      "                   all         38        905      0.823      0.738      0.814      0.533\n",
      "\n",
      "      Epoch    GPU_mem   box_loss   cls_loss   dfl_loss  Instances       Size\n",
      "      25/30      9.15G     0.7938     0.3914     0.7862         94        640: 100% 39/39 [00:06<00:00,  5.70it/s]\n",
      "                 Class     Images  Instances      Box(P          R      mAP50  mAP50-95): 100% 2/2 [00:00<00:00,  9.11it/s]\n",
      "                   all         38        905      0.853      0.779      0.823      0.554\n",
      "\n",
      "      Epoch    GPU_mem   box_loss   cls_loss   dfl_loss  Instances       Size\n",
      "      26/30      9.15G     0.7643      0.373     0.7872         89        640: 100% 39/39 [00:06<00:00,  5.74it/s]\n",
      "                 Class     Images  Instances      Box(P          R      mAP50  mAP50-95): 100% 2/2 [00:00<00:00,  8.77it/s]\n",
      "                   all         38        905      0.842      0.759      0.808      0.551\n",
      "\n",
      "      Epoch    GPU_mem   box_loss   cls_loss   dfl_loss  Instances       Size\n",
      "      27/30      9.15G      0.781     0.3785     0.7866         92        640: 100% 39/39 [00:06<00:00,  5.73it/s]\n",
      "                 Class     Images  Instances      Box(P          R      mAP50  mAP50-95): 100% 2/2 [00:00<00:00,  8.74it/s]\n",
      "                   all         38        905      0.812      0.753      0.809      0.545\n",
      "\n",
      "      Epoch    GPU_mem   box_loss   cls_loss   dfl_loss  Instances       Size\n",
      "      28/30      9.15G     0.7774     0.3757     0.7845         92        640: 100% 39/39 [00:06<00:00,  5.79it/s]\n",
      "                 Class     Images  Instances      Box(P          R      mAP50  mAP50-95): 100% 2/2 [00:00<00:00,  8.77it/s]\n",
      "                   all         38        905      0.869      0.758      0.829      0.549\n",
      "\n",
      "      Epoch    GPU_mem   box_loss   cls_loss   dfl_loss  Instances       Size\n",
      "      29/30      9.15G     0.7612      0.361     0.7845         93        640: 100% 39/39 [00:06<00:00,  5.74it/s]\n",
      "                 Class     Images  Instances      Box(P          R      mAP50  mAP50-95): 100% 2/2 [00:00<00:00,  9.13it/s]\n",
      "                   all         38        905      0.887      0.737      0.825      0.555\n",
      "\n",
      "      Epoch    GPU_mem   box_loss   cls_loss   dfl_loss  Instances       Size\n",
      "      30/30      9.15G     0.7341     0.3515     0.7817         88        640: 100% 39/39 [00:06<00:00,  5.89it/s]\n",
      "                 Class     Images  Instances      Box(P          R      mAP50  mAP50-95): 100% 2/2 [00:00<00:00,  9.18it/s]\n",
      "                   all         38        905      0.903      0.775      0.841      0.568\n",
      "\n",
      "30 epochs completed in 0.070 hours.\n",
      "Optimizer stripped from runs/detect/train2/weights/last.pt, 40.8MB\n",
      "Optimizer stripped from runs/detect/train2/weights/best.pt, 40.8MB\n",
      "\n",
      "Validating runs/detect/train2/weights/best.pt...\n",
      "Ultralytics 8.3.95 🚀 Python-3.11.11 torch-2.6.0+cu124 CUDA:0 (NVIDIA A100-SXM4-40GB, 40507MiB)\n",
      "YOLOv9m summary (fused): 151 layers, 20,015,884 parameters, 0 gradients, 76.5 GFLOPs\n",
      "                 Class     Images  Instances      Box(P          R      mAP50  mAP50-95): 100% 2/2 [00:00<00:00,  5.60it/s]\n",
      "                   all         38        905      0.903      0.775      0.841      0.571\n",
      "                  ball         35         35      0.908      0.282      0.458      0.159\n",
      "            goalkeeper         27         27      0.887      0.963       0.97      0.719\n",
      "                player         38        754      0.947      0.954      0.987      0.785\n",
      "               referee         38         89       0.87      0.902      0.948      0.619\n",
      "Speed: 0.1ms preprocess, 1.7ms inference, 0.0ms loss, 1.3ms postprocess per image\n",
      "Results saved to \u001b[1mruns/detect/train2\u001b[0m\n",
      "💡 Learn more at https://docs.ultralytics.com/modes/train\n"
     ]
    }
   ],
   "source": [
    "!yolo task=detect mode=train model=yolo11m.pt data={dataset.location}/data.yaml epochs = 100 imgsz = 640"
   ]
  }
 ],
 "metadata": {
  "accelerator": "GPU",
  "colab": {
   "gpuType": "A100",
   "machine_shape": "hm",
   "provenance": []
  },
  "kernelspec": {
   "display_name": "Python 3",
   "name": "python3"
  },
  "language_info": {
   "codemirror_mode": {
    "name": "ipython",
    "version": 3
   },
   "file_extension": ".py",
   "mimetype": "text/x-python",
   "name": "python",
   "nbconvert_exporter": "python",
   "pygments_lexer": "ipython3",
   "version": "3.11.4"
  }
 },
 "nbformat": 4,
 "nbformat_minor": 0
}
